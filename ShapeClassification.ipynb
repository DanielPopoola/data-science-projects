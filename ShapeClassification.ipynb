{
  "nbformat": 4,
  "nbformat_minor": 0,
  "metadata": {
    "colab": {
      "provenance": []
    },
    "kernelspec": {
      "name": "python3",
      "display_name": "Python 3"
    },
    "language_info": {
      "name": "python"
    }
  },
  "cells": [
    {
      "cell_type": "code",
      "source": [
        "import os\n",
        "os.chdir('/content/drive/MyDrive/Projects')\n"
      ],
      "metadata": {
        "id": "UUIo0UkrRAIt"
      },
      "execution_count": 1,
      "outputs": []
    },
    {
      "cell_type": "code",
      "source": [
        "import os\n",
        "os.chdir('/content/drive/MyDrive/Projects/data-science-projects')"
      ],
      "metadata": {
        "id": "VQY973bKS9Il"
      },
      "execution_count": 2,
      "outputs": []
    },
    {
      "cell_type": "code",
      "source": [
        "# Import PyTorch libraries\n",
        "import torch\n",
        "import torchvision\n",
        "import torchvision.transforms as transforms\n",
        "import torch.nn as nn\n",
        "import torch.optim as optim\n",
        "from torch.autograd import Variable\n",
        "import torch.nn.functional as F\n",
        "\n",
        "# Other libraries we'll use\n",
        "import numpy as np\n",
        "import os\n",
        "import matplotlib.pyplot as plt\n",
        "import matplotlib.image as mpimg\n",
        "%matplotlib inline\n",
        "\n",
        "print(\"Libraries imported - ready to use PyTorch\", torch.__version__)"
      ],
      "metadata": {
        "colab": {
          "base_uri": "https://localhost:8080/"
        },
        "id": "jRAMMqyMTHNK",
        "outputId": "b8b165d0-3fb1-4776-dc5d-4b5cbb54a873"
      },
      "execution_count": 3,
      "outputs": [
        {
          "output_type": "stream",
          "name": "stdout",
          "text": [
            "Libraries imported - ready to use PyTorch 2.0.1+cu118\n"
          ]
        }
      ]
    },
    {
      "cell_type": "code",
      "source": [
        " #The images are in the data/shapes folder\n",
        "data_path = 'datasets/shapes/'\n",
        "\n",
        "# Get the class names\n",
        "classes = os.listdir(data_path)\n",
        "classes.sort()\n",
        "print(len(classes), 'classes:')\n",
        "print(classes)\n",
        "\n",
        "# Show the first image in each folder\n",
        "fig = plt.figure(figsize=(8, 12))\n",
        "i = 0\n",
        "for sub_dir in os.listdir(data_path):\n",
        "    i+=1\n",
        "    img_file = os.listdir(os.path.join(data_path,sub_dir))[0]\n",
        "    img_path = os.path.join(data_path, sub_dir, img_file)\n",
        "    img = mpimg.imread(img_path)\n",
        "    a=fig.add_subplot(1, len(classes),i)\n",
        "    a.axis('off')\n",
        "    imgplot = plt.imshow(img)\n",
        "    a.set_title(img_file)\n",
        "plt.show()"
      ],
      "metadata": {
        "colab": {
          "base_uri": "https://localhost:8080/",
          "height": 276
        },
        "id": "jyQ44LTTTK63",
        "outputId": "eea4f36d-1ffd-4e05-b499-9864ac793712"
      },
      "execution_count": 4,
      "outputs": [
        {
          "output_type": "stream",
          "name": "stdout",
          "text": [
            "3 classes:\n",
            "['circle', 'square', 'triangle']\n"
          ]
        },
        {
          "output_type": "display_data",
          "data": {
            "text/plain": [
              "<Figure size 800x1200 with 3 Axes>"
            ],
            "image/png": "[encoded data removed]"
          },
          "metadata": {}
        }
      ]
    },
    {
      "cell_type": "markdown",
      "source": [
        "## Load data"
      ],
      "metadata": {
        "id": "RUHfevHtUnYV"
      }
    },
    {
      "cell_type": "code",
      "source": [
        "# Function to ingest data using training and test loaders\n",
        "def load_dataset(data_path):\n",
        "  transformation = transforms.Compose([\n",
        "      # Transform data to tensors\n",
        "      transforms.ToTensor(),\n",
        "      # Normalize the pixel values in (R,G,B channels)\n",
        "      transforms.Normalize(mean=[0.5, 0.5, 0.5], std=[0.5,0.5,0.5])\n",
        "  ])\n",
        "\n",
        "  # Load all of the images, transforming them\n",
        "  full_dataset = torchvision.datasets.ImageFolder(\n",
        "      root = data_path,\n",
        "      transform = transformation\n",
        "  )\n",
        "\n",
        "  train_size = int(0.7 * len(full_dataset))\n",
        "  test_size = len(full_dataset) - train_size\n",
        "  train_dataset, test_dataset = torch.utils.data.random_split(full_dataset, [train_size,test_size])\n",
        "\n",
        "  # Define a loader for training data we can iterate through in 50-image batches\n",
        "  # define a loader for the training data we can iterate through in 50-image batches\n",
        "  train_loader = torch.utils.data.DataLoader(\n",
        "      train_dataset,\n",
        "      batch_size=50,\n",
        "      num_workers=0,\n",
        "      shuffle=False\n",
        "  )\n",
        "    \n",
        "  # define a loader for the testing data we can iterate through in 50-image batches\n",
        "  test_loader = torch.utils.data.DataLoader(\n",
        "      test_dataset,\n",
        "      batch_size=50,\n",
        "      num_workers=0,\n",
        "      shuffle=False\n",
        "  )\n",
        "        \n",
        "  return train_loader, test_loader\n",
        "\n",
        "\n",
        "# Get the iterative dataloaders for test and training data\n",
        "train_loader, test_loader = load_dataset(data_path)\n",
        "print('Data loaders ready')"
      ],
      "metadata": {
        "colab": {
          "base_uri": "https://localhost:8080/"
        },
        "id": "iciW2kBZTY-U",
        "outputId": "6f45ebba-c051-43d0-90d2-4d7c38837512"
      },
      "execution_count": 5,
      "outputs": [
        {
          "output_type": "stream",
          "name": "stdout",
          "text": [
            "Data loaders ready\n"
          ]
        }
      ]
    },
    {
      "cell_type": "markdown",
      "source": [
        "## Define the CNN"
      ],
      "metadata": {
        "id": "BKjAISy9XfrR"
      }
    },
    {
      "cell_type": "code",
      "source": [
        "class Net(nn.Module):\n",
        "  # Constructor\n",
        "  def __init__(self, num_classes=3):\n",
        "    super(Net, self).__init__()\n",
        "\n",
        "    # Our images are RGB, so input channels = 3. We'll apply 12 filters in the first convolutional layer\n",
        "    self.conv1 = nn.Conv2d(in_channels=3, out_channels=12, kernel_size=3, stride=1, padding=1)\n",
        "\n",
        "    # We'll apply max pooling with a kernel size of 2\n",
        "    self.pool = nn.MaxPool2d(kernel_size=2)\n",
        "\n",
        "    # A second convolutional layer takes 12 input channels, and generates 12 outputs\n",
        "    self.conv2 = nn.Conv2d(in_channels=12, out_channels=12, kernel_size=3, stride=1, padding=1)\n",
        "        \n",
        "    # A third convolutional layer takes 12 inputs and generates 24 outputs\n",
        "    self.conv3 = nn.Conv2d(in_channels=12, out_channels=24, kernel_size=3, stride=1, padding=1)\n",
        "        \n",
        "    # A drop layer deletes 20% of the features to help prevent overfitting\n",
        "    self.drop = nn.Dropout2d(p=0.2)\n",
        "\n",
        "    # Our 128x128 image tensors will be pooled twice with a kernel size of 2. 128/2/2 is 32.\n",
        "    # So our feature tensors are now 32 x 32, and we've generated 24 of them\n",
        "    # We need to flatten these and feed them to a fully-connected layer\n",
        "    # to map them to  the probability for each class\n",
        "    self.fc = nn.Linear(in_features=32 * 32 * 24, out_features=num_classes)\n",
        "\n",
        "  \n",
        "  def forward(self, x):\n",
        "      # Use a relu activation function after layer 1 (convolution 1 and pool)\n",
        "      x = F.relu(self.pool(self.conv1(x)))\n",
        "      \n",
        "      # Use a relu activation function after layer 2 (convolution 2 and pool)\n",
        "      x = F.relu(self.pool(self.conv2(x)))\n",
        "        \n",
        "      # Select some features to drop after the 3rd convolution to prevent overfitting\n",
        "      x = F.relu(self.drop(self.conv3(x)))\n",
        "        \n",
        "      # Only drop the features if this is a training pass\n",
        "      x = F.dropout(x, training=self.training)\n",
        "        \n",
        "      # Flatten\n",
        "      x = x.view(-1, 32 * 32 * 24)\n",
        "      # Feed to fully-connected layer to predict class\n",
        "      x = self.fc(x)\n",
        "      # Return log_softmax tensor \n",
        "      return F.log_softmax(x, dim=1)\n",
        "    \n",
        "print(\"CNN model class defined!\")"
      ],
      "metadata": {
        "colab": {
          "base_uri": "https://localhost:8080/"
        },
        "id": "PpGsfGC0Wc_D",
        "outputId": "cd9eb62e-df43-4c73-d0ca-df6f14c650e7"
      },
      "execution_count": 6,
      "outputs": [
        {
          "output_type": "stream",
          "name": "stdout",
          "text": [
            "CNN model class defined!\n"
          ]
        }
      ]
    },
    {
      "cell_type": "markdown",
      "source": [
        "## Train the model"
      ],
      "metadata": {
        "id": "9S4FoBA8bCEe"
      }
    },
    {
      "cell_type": "code",
      "source": [
        "def train(model, device, train_loader, optimizer, epoch):\n",
        "    # Set the model to training mode\n",
        "    model.train()\n",
        "    train_loss = 0\n",
        "    print(\"Epoch:\", epoch)\n",
        "    # Process the images in batches\n",
        "    for batch_idx, (data, target) in enumerate(train_loader):\n",
        "        # Use the CPU or GPU as appropriate\n",
        "        data, target = data.to(device), target.to(device)\n",
        "        \n",
        "        # Reset the optimizer\n",
        "        optimizer.zero_grad()\n",
        "        \n",
        "        # Push the data forward through the model layers\n",
        "        output = model(data)\n",
        "        \n",
        "        # Get the loss\n",
        "        loss = loss_criteria(output, target)\n",
        "        \n",
        "        # Keep a running total\n",
        "        train_loss += loss.item()\n",
        "        \n",
        "        # Backpropagate\n",
        "        loss.backward()\n",
        "        optimizer.step()\n",
        "        \n",
        "        # Print metrics for every 10 batches so we see some progress\n",
        "        if batch_idx % 10 == 0:\n",
        "            print('Training set [{}/{} ({:.0f}%)] Loss: {:.6f}'.format(\n",
        "                batch_idx * len(data), len(train_loader.dataset),\n",
        "                100. * batch_idx / len(train_loader), loss.item()))\n",
        "            \n",
        "    # return average loss for the epoch\n",
        "    avg_loss = train_loss / (batch_idx+1)\n",
        "    print('Training set: Average loss: {:.6f}'.format(avg_loss))\n",
        "    return avg_loss\n",
        "            \n",
        "            \n",
        "def test(model, device, test_loader):\n",
        "    # Switch the model to evaluation mode (so we don't backpropagate or drop)\n",
        "    model.eval()\n",
        "    test_loss = 0\n",
        "    correct = 0\n",
        "    with torch.no_grad():\n",
        "        batch_count = 0\n",
        "        for data, target in test_loader:\n",
        "            batch_count += 1\n",
        "            data, target = data.to(device), target.to(device)\n",
        "            \n",
        "            # Get the predicted classes for this batch\n",
        "            output = model(data)\n",
        "            \n",
        "            # Calculate the loss for this batch\n",
        "            test_loss += loss_criteria(output, target).item()\n",
        "            \n",
        "            # Calculate the accuracy for this batch\n",
        "            _, predicted = torch.max(output.data, 1)\n",
        "            correct += torch.sum(target==predicted).item()\n",
        "\n",
        "    # Calculate the average loss and total accuracy for this epoch\n",
        "    avg_loss = test_loss/batch_count\n",
        "    print('Validation set: Average loss: {:.6f}, Accuracy: {}/{} ({:.0f}%)\\n'.format(\n",
        "        avg_loss, correct, len(test_loader.dataset),\n",
        "        100. * correct / len(test_loader.dataset)))\n",
        "    \n",
        "    # return average loss for the epoch\n",
        "    return avg_loss\n",
        "    \n",
        "    \n"
      ],
      "metadata": {
        "id": "yhfndGUBa-rp"
      },
      "execution_count": 7,
      "outputs": []
    },
    {
      "cell_type": "markdown",
      "source": [
        "## Peform training and prediction"
      ],
      "metadata": {
        "id": "duJhBjCBeEaQ"
      }
    },
    {
      "cell_type": "code",
      "source": [
        "# Now use the train and test functions to train and test the model    \n",
        "\n",
        "device = \"cpu\"\n",
        "if (torch.cuda.is_available()):\n",
        "    # if GPU available, use cuda (on a cpu, training will take a considerable length of time!)\n",
        "    device = \"cuda\"\n",
        "print('Training on', device)\n",
        "\n",
        "# Create an instance of the model class and allocate it to the device\n",
        "model = Net(num_classes=len(classes)).to(device)\n",
        "\n",
        "# Use an \"Adam\" optimizer to adjust weights\n",
        "optimizer = optim.Adam(model.parameters(), lr=0.001)\n",
        "\n",
        "# Specify the loss criteria\n",
        "loss_criteria = nn.CrossEntropyLoss()\n",
        "\n",
        "# Track metrics in these arrays\n",
        "epoch_nums = []\n",
        "training_loss = []\n",
        "validation_loss = []\n",
        "\n",
        "# Train over 5 epochs (in a real scenario, you'd likely use many more)\n",
        "epochs = 5\n",
        "for epoch in range(1, epochs + 1):\n",
        "        train_loss = train(model, device, train_loader, optimizer, epoch)\n",
        "        test_loss = test(model, device, test_loader)\n",
        "        epoch_nums.append(epoch)\n",
        "        training_loss.append(train_loss)\n",
        "        validation_loss.append(test_loss)"
      ],
      "metadata": {
        "colab": {
          "base_uri": "https://localhost:8080/"
        },
        "id": "qkW-imBEckiy",
        "outputId": "b571c8ae-4332-4559-8008-a47ed3567431"
      },
      "execution_count": 8,
      "outputs": [
        {
          "output_type": "stream",
          "name": "stdout",
          "text": [
            "Training on cpu\n",
            "Epoch: 1\n",
            "Training set [0/840 (0%)] Loss: 1.101213\n",
            "Training set [500/840 (59%)] Loss: 0.748261\n",
            "Training set: Average loss: 0.858587\n",
            "Validation set: Average loss: 0.488685, Accuracy: 285/360 (79%)\n",
            "\n",
            "Epoch: 2\n",
            "Training set [0/840 (0%)] Loss: 0.479290\n",
            "Training set [500/840 (59%)] Loss: 0.297503\n",
            "Training set: Average loss: 0.394149\n",
            "Validation set: Average loss: 0.284816, Accuracy: 305/360 (85%)\n",
            "\n",
            "Epoch: 3\n",
            "Training set [0/840 (0%)] Loss: 0.286584\n",
            "Training set [500/840 (59%)] Loss: 0.175572\n",
            "Training set: Average loss: 0.234338\n",
            "Validation set: Average loss: 0.190164, Accuracy: 339/360 (94%)\n",
            "\n",
            "Epoch: 4\n",
            "Training set [0/840 (0%)] Loss: 0.195589\n",
            "Training set [500/840 (59%)] Loss: 0.111189\n",
            "Training set: Average loss: 0.126826\n",
            "Validation set: Average loss: 0.086959, Accuracy: 356/360 (99%)\n",
            "\n",
            "Epoch: 5\n",
            "Training set [0/840 (0%)] Loss: 0.096336\n",
            "Training set [500/840 (59%)] Loss: 0.063885\n",
            "Training set: Average loss: 0.062504\n",
            "Validation set: Average loss: 0.036793, Accuracy: 358/360 (99%)\n",
            "\n"
          ]
        }
      ]
    },
    {
      "cell_type": "markdown",
      "source": [
        "## Evaluate model performance"
      ],
      "metadata": {
        "id": "k8OGxJE4ftt3"
      }
    },
    {
      "cell_type": "code",
      "source": [
        "from sklearn.metrics import confusion_matrix\n",
        "\n",
        "# Set the model to evaluate mode\n",
        "model.eval()\n",
        "\n",
        "# Get predictions for the test data and convert to numpy arrays for use with SciKit-Learn\n",
        "print(\"Getting predictions from test set...\")\n",
        "truelabels = []\n",
        "predictions = []\n",
        "for data, target in test_loader:\n",
        "    for label in target.cpu().data.numpy():\n",
        "        truelabels.append(label)\n",
        "    for prediction in model.cpu()(data).data.numpy().argmax(1):\n",
        "        predictions.append(prediction) \n",
        "\n",
        "# Plot the confusion matrix\n",
        "cm = confusion_matrix(truelabels, predictions)\n",
        "plt.imshow(cm, interpolation=\"nearest\", cmap=plt.cm.Blues)\n",
        "plt.colorbar()\n",
        "tick_marks = np.arange(len(classes))\n",
        "plt.xticks(tick_marks, classes, rotation=45)\n",
        "plt.yticks(tick_marks, classes)\n",
        "plt.xlabel(\"Predicted Shape\")\n",
        "plt.ylabel(\"Actual Shape\")\n",
        "plt.show()"
      ],
      "metadata": {
        "colab": {
          "base_uri": "https://localhost:8080/",
          "height": 500
        },
        "id": "fPgOZiLteP_K",
        "outputId": "45d917e1-df35-438d-891c-346a6099cb28"
      },
      "execution_count": 9,
      "outputs": [
        {
          "output_type": "stream",
          "name": "stdout",
          "text": [
            "Getting predictions from test set...\n"
          ]
        },
        {
          "output_type": "display_data",
          "data": {
            "text/plain": [
              "<Figure size 640x480 with 2 Axes>"
            ],
            "image/png": "[encoded data removed]"
          },
          "metadata": {}
        }
      ]
    },
    {
      "cell_type": "markdown",
      "source": [
        "## Save the trained model"
      ],
      "metadata": {
        "id": "bOQbVm7EgDp2"
      }
    },
    {
      "cell_type": "code",
      "source": [
        "# Save the model weights\n",
        "model_file = 'models/shape_classifier.pt'\n",
        "torch.save(model.state_dict(), model_file)\n",
        "del model\n",
        "print('model saved as', model_file)"
      ],
      "metadata": {
        "colab": {
          "base_uri": "https://localhost:8080/"
        },
        "id": "dIF6c1CZf5On",
        "outputId": "b892da49-e170-4f20-c241-7ea99ee510b2"
      },
      "execution_count": 10,
      "outputs": [
        {
          "output_type": "stream",
          "name": "stdout",
          "text": [
            "model saved as models/shape_classifier.pt\n"
          ]
        }
      ]
    },
    {
      "cell_type": "markdown",
      "source": [
        "## Use trained model"
      ],
      "metadata": {
        "id": "X7_rqFSEhX4_"
      }
    },
    {
      "cell_type": "code",
      "source": [
        "import matplotlib.pyplot as plt\n",
        "import os\n",
        "from random import randint\n",
        "%matplotlib inline\n",
        "\n",
        "\n",
        "# Function to predict the class of an image\n",
        "def predict_image(classifier, image):\n",
        "    import numpy\n",
        "    \n",
        "    # Set the classifer model to evaluation mode\n",
        "    classifier.eval()\n",
        "    \n",
        "    # Apply the same transformations as we did for the training images\n",
        "    transformation = transforms.Compose([\n",
        "        transforms.ToTensor(),\n",
        "        transforms.Normalize(mean=[0.5, 0.5, 0.5], std=[0.5, 0.5, 0.5])\n",
        "    ])\n",
        "\n",
        "    # Preprocess the image\n",
        "    image_tensor = transformation(image).float()\n",
        "\n",
        "    # Add an extra batch dimension since pytorch treats all inputs as batches\n",
        "    image_tensor = image_tensor.unsqueeze_(0)\n",
        "\n",
        "    # Turn the input into a Variable\n",
        "    input_features = Variable(image_tensor)\n",
        "\n",
        "    # Predict the class of the image\n",
        "    output = classifier(input_features)\n",
        "    index = output.data.numpy().argmax()\n",
        "    return index\n",
        "\n",
        "\n",
        "# Function to create a random image (of a square, circle, or triangle)\n",
        "def create_image (size, shape):\n",
        "    from random import randint\n",
        "    import numpy as np\n",
        "    from PIL import Image, ImageDraw\n",
        "    \n",
        "    xy1 = randint(10,40)\n",
        "    xy2 = randint(60,100)\n",
        "    col = (randint(0,200), randint(0,200), randint(0,200))\n",
        "\n",
        "    img = Image.new(\"RGB\", size, (255, 255, 255))\n",
        "    draw = ImageDraw.Draw(img)\n",
        "    \n",
        "    if shape == 'circle':\n",
        "        draw.ellipse([(xy1,xy1), (xy2,xy2)], fill=col)\n",
        "    elif shape == 'triangle':\n",
        "        draw.polygon([(xy1,xy1), (xy2,xy2), (xy2,xy1)], fill=col)\n",
        "    else: # square\n",
        "        draw.rectangle([(xy1,xy1), (xy2,xy2)], fill=col)\n",
        "    del draw\n",
        "    \n",
        "    return np.array(img)\n",
        "\n",
        "# Create a random test image\n",
        "classnames = os.listdir(os.path.join('datasets', 'shapes'))\n",
        "classnames.sort()\n",
        "shape = classnames[randint(0, len(classnames)-1)]\n",
        "img = create_image ((128,128), shape)\n",
        "\n",
        "# Display the image\n",
        "plt.axis('off')\n",
        "plt.imshow(img)\n",
        "\n",
        "# Create a new model class and load the saved weights\n",
        "model = Net()\n",
        "model.load_state_dict(torch.load(model_file))\n",
        "\n",
        "# Call the predction function\n",
        "index = predict_image(model, img)\n",
        "print(classes[index])"
      ],
      "metadata": {
        "colab": {
          "base_uri": "https://localhost:8080/",
          "height": 423
        },
        "id": "yuEj6KgOgr-v",
        "outputId": "be214d62-7624-4c7c-b1af-687bf77eeb64"
      },
      "execution_count": 11,
      "outputs": [
        {
          "output_type": "stream",
          "name": "stdout",
          "text": [
            "circle\n"
          ]
        },
        {
          "output_type": "display_data",
          "data": {
            "text/plain": [
              "<Figure size 640x480 with 1 Axes>"
            ],
            "image/png": "[encoded data removed]"
          },
          "metadata": {}
        }
      ]
    }
  ]
}