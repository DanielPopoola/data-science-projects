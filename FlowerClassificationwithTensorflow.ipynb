{
  "nbformat": 4,
  "nbformat_minor": 0,
  "metadata": {
    "colab": {
      "provenance": [],
      "authorship_tag": "ABX9TyOLIN/pD9uzquuUet5seS/j",
      "include_colab_link": true
    },
    "kernelspec": {
      "name": "python3",
      "display_name": "Python 3"
    },
    "language_info": {
      "name": "python"
    }
  },
  "cells": [
    {
      "cell_type": "markdown",
      "metadata": {
        "id": "view-in-github",
        "colab_type": "text"
      },
      "source": [
        "<a href=\"https://colab.research.google.com/github/DanielPopoola/data-science-projects/blob/main/FlowerClassificationwithTensorflow.ipynb\" target=\"_parent\"><img src=\"https://colab.research.google.com/assets/colab-badge.svg\" alt=\"Open In Colab\"/></a>"
      ]
    },
    {
      "cell_type": "code",
      "execution_count": 1,
      "metadata": {
        "id": "CMh5bWNZtBRL"
      },
      "outputs": [],
      "source": [
        "import pandas as pd\n",
        "from sklearn.datasets import load_iris\n",
        "\n",
        "iris_data = load_iris()\n",
        "features = iris_data.data\n",
        "labels = iris_data.target"
      ]
    },
    {
      "cell_type": "code",
      "source": [
        "flowers = pd.DataFrame(features, columns=iris_data.feature_names)\n",
        "flowers['label'] = labels\n",
        "\n",
        "flowers.columns = ['sepal length','sepal width','petal length','petal width','species']\n",
        "flowers.shape"
      ],
      "metadata": {
        "colab": {
          "base_uri": "https://localhost:8080/"
        },
        "id": "WsTpbBm8touw",
        "outputId": "ad879aae-b8bc-4b98-a634-1fb362b1e304"
      },
      "execution_count": 2,
      "outputs": [
        {
          "output_type": "execute_result",
          "data": {
            "text/plain": [
              "(150, 5)"
            ]
          },
          "metadata": {},
          "execution_count": 2
        }
      ]
    },
    {
      "cell_type": "code",
      "source": [
        "for i in range(1, 6):\n",
        "  flowers = flowers.append(flowers)\n",
        "\n",
        "sample = flowers.sample(10)\n",
        "sample"
      ],
      "metadata": {
        "colab": {
          "base_uri": "https://localhost:8080/",
          "height": 522
        },
        "id": "4EEpaEgKt5n-",
        "outputId": "e83f0038-3d04-416e-a3fd-4a4f47763549"
      },
      "execution_count": 3,
      "outputs": [
        {
          "output_type": "stream",
          "name": "stderr",
          "text": [
            "<ipython-input-3-552b88fef80e>:2: FutureWarning: The frame.append method is deprecated and will be removed from pandas in a future version. Use pandas.concat instead.\n",
            "  flowers = flowers.append(flowers)\n",
            "<ipython-input-3-552b88fef80e>:2: FutureWarning: The frame.append method is deprecated and will be removed from pandas in a future version. Use pandas.concat instead.\n",
            "  flowers = flowers.append(flowers)\n",
            "<ipython-input-3-552b88fef80e>:2: FutureWarning: The frame.append method is deprecated and will be removed from pandas in a future version. Use pandas.concat instead.\n",
            "  flowers = flowers.append(flowers)\n",
            "<ipython-input-3-552b88fef80e>:2: FutureWarning: The frame.append method is deprecated and will be removed from pandas in a future version. Use pandas.concat instead.\n",
            "  flowers = flowers.append(flowers)\n"
          ]
        },
        {
          "output_type": "execute_result",
          "data": {
            "text/plain": [
              "     sepal length  sepal width  petal length  petal width  species\n",
              "127           6.1          3.0           4.9          1.8        2\n",
              "75            6.6          3.0           4.4          1.4        1\n",
              "115           6.4          3.2           5.3          2.3        2\n",
              "51            6.4          3.2           4.5          1.5        1\n",
              "39            5.1          3.4           1.5          0.2        0\n",
              "121           5.6          2.8           4.9          2.0        2\n",
              "111           6.4          2.7           5.3          1.9        2\n",
              "6             4.6          3.4           1.4          0.3        0\n",
              "78            6.0          2.9           4.5          1.5        1\n",
              "46            5.1          3.8           1.6          0.2        0"
            ],
            "text/html": [
              "\n",
              "  <div id=\"df-dc9c1d38-7730-48a3-9140-d22e810ef47d\">\n",
              "    <div class=\"colab-df-container\">\n",
              "      <div>\n",
              "<style scoped>\n",
              "    .dataframe tbody tr th:only-of-type {\n",
              "        vertical-align: middle;\n",
              "    }\n",
              "\n",
              "    .dataframe tbody tr th {\n",
              "        vertical-align: top;\n",
              "    }\n",
              "\n",
              "    .dataframe thead th {\n",
              "        text-align: right;\n",
              "    }\n",
              "</style>\n",
              "<table border=\"1\" class=\"dataframe\">\n",
              "  <thead>\n",
              "    <tr style=\"text-align: right;\">\n",
              "      <th></th>\n",
              "      <th>sepal length</th>\n",
              "      <th>sepal width</th>\n",
              "      <th>petal length</th>\n",
              "      <th>petal width</th>\n",
              "      <th>species</th>\n",
              "    </tr>\n",
              "  </thead>\n",
              "  <tbody>\n",
              "    <tr>\n",
              "      <th>127</th>\n",
              "      <td>6.1</td>\n",
              "      <td>3.0</td>\n",
              "      <td>4.9</td>\n",
              "      <td>1.8</td>\n",
              "      <td>2</td>\n",
              "    </tr>\n",
              "    <tr>\n",
              "      <th>75</th>\n",
              "      <td>6.6</td>\n",
              "      <td>3.0</td>\n",
              "      <td>4.4</td>\n",
              "      <td>1.4</td>\n",
              "      <td>1</td>\n",
              "    </tr>\n",
              "    <tr>\n",
              "      <th>115</th>\n",
              "      <td>6.4</td>\n",
              "      <td>3.2</td>\n",
              "      <td>5.3</td>\n",
              "      <td>2.3</td>\n",
              "      <td>2</td>\n",
              "    </tr>\n",
              "    <tr>\n",
              "      <th>51</th>\n",
              "      <td>6.4</td>\n",
              "      <td>3.2</td>\n",
              "      <td>4.5</td>\n",
              "      <td>1.5</td>\n",
              "      <td>1</td>\n",
              "    </tr>\n",
              "    <tr>\n",
              "      <th>39</th>\n",
              "      <td>5.1</td>\n",
              "      <td>3.4</td>\n",
              "      <td>1.5</td>\n",
              "      <td>0.2</td>\n",
              "      <td>0</td>\n",
              "    </tr>\n",
              "    <tr>\n",
              "      <th>121</th>\n",
              "      <td>5.6</td>\n",
              "      <td>2.8</td>\n",
              "      <td>4.9</td>\n",
              "      <td>2.0</td>\n",
              "      <td>2</td>\n",
              "    </tr>\n",
              "    <tr>\n",
              "      <th>111</th>\n",
              "      <td>6.4</td>\n",
              "      <td>2.7</td>\n",
              "      <td>5.3</td>\n",
              "      <td>1.9</td>\n",
              "      <td>2</td>\n",
              "    </tr>\n",
              "    <tr>\n",
              "      <th>6</th>\n",
              "      <td>4.6</td>\n",
              "      <td>3.4</td>\n",
              "      <td>1.4</td>\n",
              "      <td>0.3</td>\n",
              "      <td>0</td>\n",
              "    </tr>\n",
              "    <tr>\n",
              "      <th>78</th>\n",
              "      <td>6.0</td>\n",
              "      <td>2.9</td>\n",
              "      <td>4.5</td>\n",
              "      <td>1.5</td>\n",
              "      <td>1</td>\n",
              "    </tr>\n",
              "    <tr>\n",
              "      <th>46</th>\n",
              "      <td>5.1</td>\n",
              "      <td>3.8</td>\n",
              "      <td>1.6</td>\n",
              "      <td>0.2</td>\n",
              "      <td>0</td>\n",
              "    </tr>\n",
              "  </tbody>\n",
              "</table>\n",
              "</div>\n",
              "      <button class=\"colab-df-convert\" onclick=\"convertToInteractive('df-dc9c1d38-7730-48a3-9140-d22e810ef47d')\"\n",
              "              title=\"Convert this dataframe to an interactive table.\"\n",
              "              style=\"display:none;\">\n",
              "        \n",
              "  <svg xmlns=\"http://www.w3.org/2000/svg\" height=\"24px\"viewBox=\"0 0 24 24\"\n",
              "       width=\"24px\">\n",
              "    <path d=\"M0 0h24v24H0V0z\" fill=\"none\"/>\n",
              "    <path d=\"M18.56 5.44l.94 2.06.94-2.06 2.06-.94-2.06-.94-.94-2.06-.94 2.06-2.06.94zm-11 1L8.5 8.5l.94-2.06 2.06-.94-2.06-.94L8.5 2.5l-.94 2.06-2.06.94zm10 10l.94 2.06.94-2.06 2.06-.94-2.06-.94-.94-2.06-.94 2.06-2.06.94z\"/><path d=\"M17.41 7.96l-1.37-1.37c-.4-.4-.92-.59-1.43-.59-.52 0-1.04.2-1.43.59L10.3 9.45l-7.72 7.72c-.78.78-.78 2.05 0 2.83L4 21.41c.39.39.9.59 1.41.59.51 0 1.02-.2 1.41-.59l7.78-7.78 2.81-2.81c.8-.78.8-2.07 0-2.86zM5.41 20L4 18.59l7.72-7.72 1.47 1.35L5.41 20z\"/>\n",
              "  </svg>\n",
              "      </button>\n",
              "      \n",
              "  <style>\n",
              "    .colab-df-container {\n",
              "      display:flex;\n",
              "      flex-wrap:wrap;\n",
              "      gap: 12px;\n",
              "    }\n",
              "\n",
              "    .colab-df-convert {\n",
              "      background-color: #E8F0FE;\n",
              "      border: none;\n",
              "      border-radius: 50%;\n",
              "      cursor: pointer;\n",
              "      display: none;\n",
              "      fill: #1967D2;\n",
              "      height: 32px;\n",
              "      padding: 0 0 0 0;\n",
              "      width: 32px;\n",
              "    }\n",
              "\n",
              "    .colab-df-convert:hover {\n",
              "      background-color: #E2EBFA;\n",
              "      box-shadow: 0px 1px 2px rgba(60, 64, 67, 0.3), 0px 1px 3px 1px rgba(60, 64, 67, 0.15);\n",
              "      fill: #174EA6;\n",
              "    }\n",
              "\n",
              "    [theme=dark] .colab-df-convert {\n",
              "      background-color: #3B4455;\n",
              "      fill: #D2E3FC;\n",
              "    }\n",
              "\n",
              "    [theme=dark] .colab-df-convert:hover {\n",
              "      background-color: #434B5C;\n",
              "      box-shadow: 0px 1px 3px 1px rgba(0, 0, 0, 0.15);\n",
              "      filter: drop-shadow(0px 1px 2px rgba(0, 0, 0, 0.3));\n",
              "      fill: #FFFFFF;\n",
              "    }\n",
              "  </style>\n",
              "\n",
              "      <script>\n",
              "        const buttonEl =\n",
              "          document.querySelector('#df-dc9c1d38-7730-48a3-9140-d22e810ef47d button.colab-df-convert');\n",
              "        buttonEl.style.display =\n",
              "          google.colab.kernel.accessAllowed ? 'block' : 'none';\n",
              "\n",
              "        async function convertToInteractive(key) {\n",
              "          const element = document.querySelector('#df-dc9c1d38-7730-48a3-9140-d22e810ef47d');\n",
              "          const dataTable =\n",
              "            await google.colab.kernel.invokeFunction('convertToInteractive',\n",
              "                                                     [key], {});\n",
              "          if (!dataTable) return;\n",
              "\n",
              "          const docLinkHtml = 'Like what you see? Visit the ' +\n",
              "            '<a target=\"_blank\" href=https://colab.research.google.com/notebooks/data_table.ipynb>data table notebook</a>'\n",
              "            + ' to learn more about interactive tables.';\n",
              "          element.innerHTML = '';\n",
              "          dataTable['output_type'] = 'display_data';\n",
              "          await google.colab.output.renderOutput(dataTable, element);\n",
              "          const docLink = document.createElement('div');\n",
              "          docLink.innerHTML = docLinkHtml;\n",
              "          element.appendChild(docLink);\n",
              "        }\n",
              "      </script>\n",
              "    </div>\n",
              "  </div>\n",
              "  "
            ]
          },
          "metadata": {},
          "execution_count": 3
        }
      ]
    },
    {
      "cell_type": "code",
      "source": [
        "flowers.info()"
      ],
      "metadata": {
        "colab": {
          "base_uri": "https://localhost:8080/"
        },
        "id": "Cei3MdBFvLB5",
        "outputId": "e49f7019-a89c-4132-db3b-c53345eafd8f"
      },
      "execution_count": 4,
      "outputs": [
        {
          "output_type": "stream",
          "name": "stdout",
          "text": [
            "<class 'pandas.core.frame.DataFrame'>\n",
            "Int64Index: 4800 entries, 0 to 149\n",
            "Data columns (total 5 columns):\n",
            " #   Column        Non-Null Count  Dtype  \n",
            "---  ------        --------------  -----  \n",
            " 0   sepal length  4800 non-null   float64\n",
            " 1   sepal width   4800 non-null   float64\n",
            " 2   petal length  4800 non-null   float64\n",
            " 3   petal width   4800 non-null   float64\n",
            " 4   species       4800 non-null   int64  \n",
            "dtypes: float64(4), int64(1)\n",
            "memory usage: 225.0 KB\n"
          ]
        }
      ]
    },
    {
      "cell_type": "code",
      "source": [
        "flower_classes = ['Setosa', 'Versicolor', 'Virginica']\n",
        "print(sample.columns[0:5].values, 'SpeciesName')\n",
        "for index, row in flowers.sample(10).iterrows():\n",
        "    print('[',row[0], row[1], row[2],row[3], int(row[4]), ']',flower_classes[int(row[-1])])"
      ],
      "metadata": {
        "colab": {
          "base_uri": "https://localhost:8080/"
        },
        "id": "av7A9Emnvfws",
        "outputId": "1a3ad171-f0b8-4bf8-8837-1740ac7bc092"
      },
      "execution_count": 5,
      "outputs": [
        {
          "output_type": "stream",
          "name": "stdout",
          "text": [
            "['sepal length' 'sepal width' 'petal length' 'petal width' 'species'] SpeciesName\n",
            "[ 4.8 3.4 1.6 0.2 0 ] Setosa\n",
            "[ 5.5 2.3 4.0 1.3 1 ] Versicolor\n",
            "[ 5.0 3.0 1.6 0.2 0 ] Setosa\n",
            "[ 7.7 2.6 6.9 2.3 2 ] Virginica\n",
            "[ 4.9 3.6 1.4 0.1 0 ] Setosa\n",
            "[ 5.0 3.3 1.4 0.2 0 ] Setosa\n",
            "[ 6.0 3.0 4.8 1.8 2 ] Virginica\n",
            "[ 6.3 2.5 4.9 1.5 1 ] Versicolor\n",
            "[ 6.8 3.2 5.9 2.3 2 ] Virginica\n",
            "[ 7.2 3.6 6.1 2.5 2 ] Virginica\n"
          ]
        }
      ]
    },
    {
      "cell_type": "code",
      "source": [
        "from sklearn.model_selection import train_test_split\n",
        "\n",
        "features = ['sepal length','sepal width','petal length','petal width']\n",
        "label = 'species'\n",
        "\n",
        "x_train, x_test, y_train, y_test = train_test_split(flowers[features].values,\n",
        "                                                    flowers[label].values,\n",
        "                                                    test_size=0.3,\n",
        "                                                    random_state=0)\n",
        "\n",
        "\n",
        "print ('Training Set: %d, Test Set: %d \\n' % (len(x_train), len(x_test)))\n",
        "print(\"Sample of features and labels:\")\n",
        "\n",
        "# Take a look at the first 25 training features and corresponding labels\n",
        "for n in range(0,24):\n",
        "    print(x_train[n], y_train[n], '(' + flower_classes[y_train[n]] + ')')"
      ],
      "metadata": {
        "colab": {
          "base_uri": "https://localhost:8080/"
        },
        "id": "pGBOq-eNwCVK",
        "outputId": "98357002-7ca5-4e42-d1a8-69c9b6caad45"
      },
      "execution_count": 6,
      "outputs": [
        {
          "output_type": "stream",
          "name": "stdout",
          "text": [
            "Training Set: 3360, Test Set: 1440 \n",
            "\n",
            "Sample of features and labels:\n",
            "[6.4 2.8 5.6 2.2] 2 (Virginica)\n",
            "[5.1 2.5 3.  1.1] 1 (Versicolor)\n",
            "[7.2 3.6 6.1 2.5] 2 (Virginica)\n",
            "[5.8 2.7 5.1 1.9] 2 (Virginica)\n",
            "[6.1 2.8 4.  1.3] 1 (Versicolor)\n",
            "[5.1 3.8 1.9 0.4] 0 (Setosa)\n",
            "[5.  3.2 1.2 0.2] 0 (Setosa)\n",
            "[7.9 3.8 6.4 2. ] 2 (Virginica)\n",
            "[5.7 3.  4.2 1.2] 1 (Versicolor)\n",
            "[5.8 2.6 4.  1.2] 1 (Versicolor)\n",
            "[7.4 2.8 6.1 1.9] 2 (Virginica)\n",
            "[5.7 2.9 4.2 1.3] 1 (Versicolor)\n",
            "[5.7 2.9 4.2 1.3] 1 (Versicolor)\n",
            "[5.1 3.8 1.6 0.2] 0 (Setosa)\n",
            "[6.7 2.5 5.8 1.8] 2 (Virginica)\n",
            "[5.4 3.4 1.7 0.2] 0 (Setosa)\n",
            "[5.9 3.  5.1 1.8] 2 (Virginica)\n",
            "[5.  3.4 1.5 0.2] 0 (Setosa)\n",
            "[5.8 2.8 5.1 2.4] 2 (Virginica)\n",
            "[7.7 3.8 6.7 2.2] 2 (Virginica)\n",
            "[7.3 2.9 6.3 1.8] 2 (Virginica)\n",
            "[4.6 3.1 1.5 0.2] 0 (Setosa)\n",
            "[7.7 3.  6.1 2.3] 2 (Virginica)\n",
            "[5.1 2.5 3.  1.1] 1 (Versicolor)\n"
          ]
        }
      ]
    },
    {
      "cell_type": "code",
      "source": [
        "import tensorflow\n",
        "from tensorflow import keras\n",
        "from tensorflow.keras import models\n",
        "from tensorflow.keras.models import Sequential\n",
        "from tensorflow.keras.layers import Dense\n",
        "from tensorflow.keras import utils\n",
        "from tensorflow.keras import optimizers\n",
        "\n",
        "# Set random seed for reproducability\n",
        "tensorflow.random.set_seed(0)\n",
        "\n",
        "print(\"Libraries imported.\")\n",
        "print('Keras version:',keras.__version__)\n",
        "print('TensorFlow version:',tensorflow.__version__)"
      ],
      "metadata": {
        "colab": {
          "base_uri": "https://localhost:8080/"
        },
        "id": "tlK7F69gwqRH",
        "outputId": "3f066443-0dee-4cde-aa49-0360df3a6fb9"
      },
      "execution_count": 7,
      "outputs": [
        {
          "output_type": "stream",
          "name": "stdout",
          "text": [
            "Libraries imported.\n",
            "Keras version: 2.12.0\n",
            "TensorFlow version: 2.12.0\n"
          ]
        }
      ]
    },
    {
      "cell_type": "code",
      "source": [
        "# Set data types for float features\n",
        "x_train = x_train.astype('float32')\n",
        "x_test = x_test.astype('float32')\n",
        "\n",
        "# Set data types for categorical labels\n",
        "y_train = utils.to_categorical(y_train)\n",
        "y_test = utils.to_categorical(y_test)\n"
      ],
      "metadata": {
        "id": "MFRP3CE_xaxR"
      },
      "execution_count": 8,
      "outputs": []
    },
    {
      "cell_type": "code",
      "source": [
        "from keras.api._v2.keras import activations\n",
        "# Define a classfier network\n",
        "h1 = 10 # Number of hidden layer nodes\n",
        "\n",
        "model = Sequential()\n",
        "model.add(Dense(h1, input_dim=len(features), activation='relu'))\n",
        "model.add(Dense(h1, input_dim=h1, activation='relu'))\n",
        "model.add(Dense(len(flower_classes), input_dim=h1, activation='softmax'))\n",
        "\n",
        "print(model.summary())"
      ],
      "metadata": {
        "colab": {
          "base_uri": "https://localhost:8080/"
        },
        "id": "3r3Yrnc_yBx5",
        "outputId": "558ffbd0-eedc-4269-fdce-310833400aa6"
      },
      "execution_count": 9,
      "outputs": [
        {
          "output_type": "stream",
          "name": "stdout",
          "text": [
            "Model: \"sequential\"\n",
            "_________________________________________________________________\n",
            " Layer (type)                Output Shape              Param #   \n",
            "=================================================================\n",
            " dense (Dense)               (None, 10)                50        \n",
            "                                                                 \n",
            " dense_1 (Dense)             (None, 10)                110       \n",
            "                                                                 \n",
            " dense_2 (Dense)             (None, 3)                 33        \n",
            "                                                                 \n",
            "=================================================================\n",
            "Total params: 193\n",
            "Trainable params: 193\n",
            "Non-trainable params: 0\n",
            "_________________________________________________________________\n",
            "None\n"
          ]
        }
      ]
    },
    {
      "cell_type": "code",
      "source": [
        "learning_rate = 0.001\n",
        "opt = optimizers.Adam(learning_rate=learning_rate)\n",
        "\n",
        "model.compile(loss='categorical_crossentropy',\n",
        "              optimizer=opt,\n",
        "              metrics=['accuracy'])\n",
        "\n",
        "num_epochs = 50\n",
        "history = model.fit(x_train, y_train, epochs=num_epochs, batch_size=10, validation_data=(x_test, y_test))"
      ],
      "metadata": {
        "colab": {
          "base_uri": "https://localhost:8080/"
        },
        "id": "KSRkhdpsz5nS",
        "outputId": "5669fed7-dca9-4775-edbc-6354105caf36"
      },
      "execution_count": 10,
      "outputs": [
        {
          "output_type": "stream",
          "name": "stdout",
          "text": [
            "Epoch 1/50\n",
            "336/336 [==============================] - 2s 3ms/step - loss: 0.6280 - accuracy: 0.7518 - val_loss: 0.3895 - val_accuracy: 0.9535\n",
            "Epoch 2/50\n",
            "336/336 [==============================] - 1s 2ms/step - loss: 0.3065 - accuracy: 0.9676 - val_loss: 0.2177 - val_accuracy: 0.9701\n",
            "Epoch 3/50\n",
            "336/336 [==============================] - 1s 3ms/step - loss: 0.1797 - accuracy: 0.9744 - val_loss: 0.1407 - val_accuracy: 0.9701\n",
            "Epoch 4/50\n",
            "336/336 [==============================] - 1s 2ms/step - loss: 0.1226 - accuracy: 0.9798 - val_loss: 0.1046 - val_accuracy: 0.9778\n",
            "Epoch 5/50\n",
            "336/336 [==============================] - 1s 3ms/step - loss: 0.0994 - accuracy: 0.9765 - val_loss: 0.0951 - val_accuracy: 0.9701\n",
            "Epoch 6/50\n",
            "336/336 [==============================] - 1s 3ms/step - loss: 0.0848 - accuracy: 0.9786 - val_loss: 0.0784 - val_accuracy: 0.9750\n",
            "Epoch 7/50\n",
            "336/336 [==============================] - 1s 3ms/step - loss: 0.0762 - accuracy: 0.9783 - val_loss: 0.0717 - val_accuracy: 0.9785\n",
            "Epoch 8/50\n",
            "336/336 [==============================] - 1s 3ms/step - loss: 0.0717 - accuracy: 0.9783 - val_loss: 0.0666 - val_accuracy: 0.9785\n",
            "Epoch 9/50\n",
            "336/336 [==============================] - 1s 3ms/step - loss: 0.0671 - accuracy: 0.9792 - val_loss: 0.0721 - val_accuracy: 0.9778\n",
            "Epoch 10/50\n",
            "336/336 [==============================] - 1s 3ms/step - loss: 0.0640 - accuracy: 0.9807 - val_loss: 0.0759 - val_accuracy: 0.9556\n",
            "Epoch 11/50\n",
            "336/336 [==============================] - 1s 3ms/step - loss: 0.0647 - accuracy: 0.9765 - val_loss: 0.0663 - val_accuracy: 0.9778\n",
            "Epoch 12/50\n",
            "336/336 [==============================] - 1s 2ms/step - loss: 0.0621 - accuracy: 0.9774 - val_loss: 0.0574 - val_accuracy: 0.9785\n",
            "Epoch 13/50\n",
            "336/336 [==============================] - 1s 3ms/step - loss: 0.0608 - accuracy: 0.9786 - val_loss: 0.0676 - val_accuracy: 0.9778\n",
            "Epoch 14/50\n",
            "336/336 [==============================] - 1s 3ms/step - loss: 0.0591 - accuracy: 0.9792 - val_loss: 0.0558 - val_accuracy: 0.9868\n",
            "Epoch 15/50\n",
            "336/336 [==============================] - 1s 3ms/step - loss: 0.0585 - accuracy: 0.9804 - val_loss: 0.0600 - val_accuracy: 0.9778\n",
            "Epoch 16/50\n",
            "336/336 [==============================] - 1s 2ms/step - loss: 0.0581 - accuracy: 0.9815 - val_loss: 0.0537 - val_accuracy: 0.9785\n",
            "Epoch 17/50\n",
            "336/336 [==============================] - 1s 3ms/step - loss: 0.0551 - accuracy: 0.9810 - val_loss: 0.0530 - val_accuracy: 0.9785\n",
            "Epoch 18/50\n",
            "336/336 [==============================] - 1s 3ms/step - loss: 0.0572 - accuracy: 0.9786 - val_loss: 0.0648 - val_accuracy: 0.9778\n",
            "Epoch 19/50\n",
            "336/336 [==============================] - 1s 2ms/step - loss: 0.0551 - accuracy: 0.9824 - val_loss: 0.0537 - val_accuracy: 0.9868\n",
            "Epoch 20/50\n",
            "336/336 [==============================] - 1s 3ms/step - loss: 0.0558 - accuracy: 0.9810 - val_loss: 0.0516 - val_accuracy: 0.9785\n",
            "Epoch 21/50\n",
            "336/336 [==============================] - 1s 4ms/step - loss: 0.0555 - accuracy: 0.9792 - val_loss: 0.0555 - val_accuracy: 0.9778\n",
            "Epoch 22/50\n",
            "336/336 [==============================] - 1s 4ms/step - loss: 0.0541 - accuracy: 0.9795 - val_loss: 0.0545 - val_accuracy: 0.9778\n",
            "Epoch 23/50\n",
            "336/336 [==============================] - 1s 4ms/step - loss: 0.0536 - accuracy: 0.9810 - val_loss: 0.0505 - val_accuracy: 0.9785\n",
            "Epoch 24/50\n",
            "336/336 [==============================] - 1s 4ms/step - loss: 0.0556 - accuracy: 0.9789 - val_loss: 0.0514 - val_accuracy: 0.9785\n",
            "Epoch 25/50\n",
            "336/336 [==============================] - 1s 3ms/step - loss: 0.0544 - accuracy: 0.9812 - val_loss: 0.0520 - val_accuracy: 0.9708\n",
            "Epoch 26/50\n",
            "336/336 [==============================] - 1s 2ms/step - loss: 0.0532 - accuracy: 0.9789 - val_loss: 0.0496 - val_accuracy: 0.9785\n",
            "Epoch 27/50\n",
            "336/336 [==============================] - 1s 2ms/step - loss: 0.0530 - accuracy: 0.9783 - val_loss: 0.0514 - val_accuracy: 0.9785\n",
            "Epoch 28/50\n",
            "336/336 [==============================] - 1s 2ms/step - loss: 0.0542 - accuracy: 0.9786 - val_loss: 0.0504 - val_accuracy: 0.9785\n",
            "Epoch 29/50\n",
            "336/336 [==============================] - 1s 2ms/step - loss: 0.0534 - accuracy: 0.9792 - val_loss: 0.0543 - val_accuracy: 0.9778\n",
            "Epoch 30/50\n",
            "336/336 [==============================] - 1s 2ms/step - loss: 0.0530 - accuracy: 0.9810 - val_loss: 0.0491 - val_accuracy: 0.9868\n",
            "Epoch 31/50\n",
            "336/336 [==============================] - 1s 2ms/step - loss: 0.0504 - accuracy: 0.9801 - val_loss: 0.0508 - val_accuracy: 0.9785\n",
            "Epoch 32/50\n",
            "336/336 [==============================] - 1s 3ms/step - loss: 0.0503 - accuracy: 0.9845 - val_loss: 0.0507 - val_accuracy: 0.9868\n",
            "Epoch 33/50\n",
            "336/336 [==============================] - 1s 3ms/step - loss: 0.0523 - accuracy: 0.9798 - val_loss: 0.0500 - val_accuracy: 0.9785\n",
            "Epoch 34/50\n",
            "336/336 [==============================] - 1s 2ms/step - loss: 0.0496 - accuracy: 0.9801 - val_loss: 0.0480 - val_accuracy: 0.9785\n",
            "Epoch 35/50\n",
            "336/336 [==============================] - 1s 2ms/step - loss: 0.0508 - accuracy: 0.9801 - val_loss: 0.0538 - val_accuracy: 0.9778\n",
            "Epoch 36/50\n",
            "336/336 [==============================] - 1s 3ms/step - loss: 0.0517 - accuracy: 0.9812 - val_loss: 0.0472 - val_accuracy: 0.9785\n",
            "Epoch 37/50\n",
            "336/336 [==============================] - 1s 4ms/step - loss: 0.0500 - accuracy: 0.9824 - val_loss: 0.0565 - val_accuracy: 0.9778\n",
            "Epoch 38/50\n",
            "336/336 [==============================] - 2s 5ms/step - loss: 0.0499 - accuracy: 0.9818 - val_loss: 0.0463 - val_accuracy: 0.9868\n",
            "Epoch 39/50\n",
            "336/336 [==============================] - 1s 3ms/step - loss: 0.0493 - accuracy: 0.9845 - val_loss: 0.0597 - val_accuracy: 0.9778\n",
            "Epoch 40/50\n",
            "336/336 [==============================] - 1s 2ms/step - loss: 0.0490 - accuracy: 0.9810 - val_loss: 0.0451 - val_accuracy: 0.9868\n",
            "Epoch 41/50\n",
            "336/336 [==============================] - 1s 2ms/step - loss: 0.0464 - accuracy: 0.9830 - val_loss: 0.0571 - val_accuracy: 0.9778\n",
            "Epoch 42/50\n",
            "336/336 [==============================] - 1s 2ms/step - loss: 0.0484 - accuracy: 0.9839 - val_loss: 0.0437 - val_accuracy: 0.9868\n",
            "Epoch 43/50\n",
            "336/336 [==============================] - 1s 2ms/step - loss: 0.0477 - accuracy: 0.9827 - val_loss: 0.0436 - val_accuracy: 0.9868\n",
            "Epoch 44/50\n",
            "336/336 [==============================] - 1s 2ms/step - loss: 0.0477 - accuracy: 0.9812 - val_loss: 0.0457 - val_accuracy: 0.9868\n",
            "Epoch 45/50\n",
            "336/336 [==============================] - 1s 2ms/step - loss: 0.0487 - accuracy: 0.9801 - val_loss: 0.0476 - val_accuracy: 0.9806\n",
            "Epoch 46/50\n",
            "336/336 [==============================] - 1s 3ms/step - loss: 0.0475 - accuracy: 0.9804 - val_loss: 0.0472 - val_accuracy: 0.9785\n",
            "Epoch 47/50\n",
            "336/336 [==============================] - 1s 2ms/step - loss: 0.0461 - accuracy: 0.9854 - val_loss: 0.0449 - val_accuracy: 0.9785\n",
            "Epoch 48/50\n",
            "336/336 [==============================] - 1s 3ms/step - loss: 0.0510 - accuracy: 0.9807 - val_loss: 0.0423 - val_accuracy: 0.9868\n",
            "Epoch 49/50\n",
            "336/336 [==============================] - 1s 3ms/step - loss: 0.0454 - accuracy: 0.9842 - val_loss: 0.0447 - val_accuracy: 0.9937\n",
            "Epoch 50/50\n",
            "336/336 [==============================] - 1s 3ms/step - loss: 0.0476 - accuracy: 0.9830 - val_loss: 0.0440 - val_accuracy: 0.9868\n"
          ]
        }
      ]
    },
    {
      "cell_type": "code",
      "source": [
        "%matplotlib inline\n",
        "from matplotlib import pyplot as plt\n",
        "\n",
        "epoch_nums = range(1,num_epochs+1)\n",
        "training_loss = history.history[\"loss\"]\n",
        "validation_loss = history.history[\"val_loss\"]\n",
        "plt.plot(epoch_nums, training_loss)\n",
        "plt.plot(epoch_nums, validation_loss)\n",
        "plt.xlabel('epoch')\n",
        "plt.ylabel('loss')\n",
        "plt.legend(['training', 'validation'], loc='upper right')\n",
        "plt.show()"
      ],
      "metadata": {
        "colab": {
          "base_uri": "https://localhost:8080/",
          "height": 449
        },
        "id": "sQzI6XQU1ZtS",
        "outputId": "7361f981-1f1c-48be-b1e1-c30a83a80249"
      },
      "execution_count": 11,
      "outputs": [
        {
          "output_type": "display_data",
          "data": {
            "text/plain": [
              "<Figure size 640x480 with 1 Axes>"
            ],
            "image/png": "[encoded data removed]"
          },
          "metadata": {}
        }
      ]
    },
    {
      "cell_type": "code",
      "source": [
        "for layer in model.layers:\n",
        "    weights = layer.get_weights()[0]\n",
        "    biases = layer.get_weights()[1]\n",
        "    print('------------\\nWeights:\\n',weights,'\\nBiases:\\n', biases)"
      ],
      "metadata": {
        "id": "OZA2HPzR3Emc",
        "colab": {
          "base_uri": "https://localhost:8080/"
        },
        "outputId": "5cc38a27-a9ab-4554-aa7e-5b942c952186"
      },
      "execution_count": 12,
      "outputs": [
        {
          "output_type": "stream",
          "name": "stdout",
          "text": [
            "------------\n",
            "Weights:\n",
            " [[-0.27872664  0.7580487  -0.4961272  -0.21642332  0.2183722   0.29629672\n",
            "  -0.31529024  0.74886155 -0.08188365  0.31251603]\n",
            " [ 0.17691    -0.49630535  0.2469526  -0.08280735  0.4692509   0.87271535\n",
            "   0.12275387  0.06883874  0.9977012  -0.7082466 ]\n",
            " [-0.0223953   0.43041676 -0.19932401  0.90778595 -0.4980322  -0.10337003\n",
            "   0.8260271  -0.20522226 -0.52809626  0.19593298]\n",
            " [ 0.5201151  -0.40325877 -0.18767393  0.72097516 -0.20301272 -0.60786754\n",
            "   1.2071534  -0.90617526 -0.09937987  0.23023455]] \n",
            "Biases:\n",
            " [-0.03078217  0.5810339   0.         -0.6789186   0.3306475   0.78601325\n",
            " -0.6684789   0.8188301   0.19827296 -0.75813943]\n",
            "------------\n",
            "Weights:\n",
            " [[ 0.00450605  0.25943583 -0.28183958  0.35947627 -0.23373419 -0.09572515\n",
            "   0.5269984  -0.11146599 -0.4319432  -0.3922991 ]\n",
            " [-0.38249394  0.07599384  0.5468324   0.35604084 -0.321734   -0.35163695\n",
            "  -0.52818674 -0.502621    0.4039481   0.19627583]\n",
            " [-0.3279115   0.12143868  0.22050881 -0.28487018  0.13351446  0.34804684\n",
            "   0.26365888  0.04434401 -0.10062805  0.30841756]\n",
            " [ 0.15342039 -0.5295025   1.0595566  -0.69115335 -0.30683717  0.37496012\n",
            "   0.5140114  -0.42813224 -0.2696224  -1.0480168 ]\n",
            " [ 0.24215692  0.29207116 -0.10261703 -0.267115    0.4666265  -0.22469023\n",
            "  -0.30174285 -0.23285493  0.19740658  0.08355054]\n",
            " [-0.23595467 -0.44367248 -0.01410465  0.19846615 -0.01014289  0.27895743\n",
            "  -0.02863258  0.07769328 -0.45146108  0.7631231 ]\n",
            " [ 0.32457495 -0.04568815  1.2513586   0.22618657 -0.09380524 -0.38253862\n",
            "  -0.1153613   0.4565376   0.5666117  -0.6037978 ]\n",
            " [-0.39941582 -0.09776139 -0.38072684  0.57849866 -0.1760463  -0.42259532\n",
            "   0.33136588 -0.1717085   0.11429428  1.0189085 ]\n",
            " [-0.04380339 -0.5444716  -0.9621232   0.19733243 -0.04245535 -0.21378672\n",
            "  -0.5396578  -0.21041259  0.10767723  1.5590001 ]\n",
            " [-0.32419783 -0.40254432  0.08142231 -0.3638543  -0.2665431  -0.2506336\n",
            "  -0.06316245 -0.48490763  0.63358694 -0.8918864 ]] \n",
            "Biases:\n",
            " [ 0.          0.         -0.53764755  0.42416996 -0.06023489  0.\n",
            "  0.          0.         -0.45557114  0.79401666]\n",
            "------------\n",
            "Weights:\n",
            " [[-0.26116824 -0.47172508  0.5798354 ]\n",
            " [-0.42489043  0.6588267  -0.22234723]\n",
            " [-3.1309605  -0.08524116  0.69575375]\n",
            " [-0.8936584   0.32495347 -0.5401747 ]\n",
            " [-0.24651553  0.29194948 -0.07922928]\n",
            " [-0.1060878   0.08919203 -0.16009867]\n",
            " [-0.1530428  -0.3113907   0.61918557]\n",
            " [ 0.49001086  0.15498     0.12205583]\n",
            " [-0.59476304 -0.6589213  -0.07665276]\n",
            " [ 1.9929473   0.5677871  -2.330643  ]] \n",
            "Biases:\n",
            " [-0.15104607  0.45263076 -0.56722677]\n"
          ]
        }
      ]
    },
    {
      "cell_type": "code",
      "source": [
        "import numpy as np\n",
        "from sklearn.metrics import confusion_matrix\n",
        "\n",
        "class_probabilites = model.predict(x_test)\n",
        "predictions = np.argmax(class_probabilites, axis=1)\n",
        "true_labels = np.argmax(y_test, axis=1)\n",
        "\n",
        "cm = confusion_matrix(true_labels, predictions)\n",
        "plt.imshow(cm, interpolation=\"nearest\", cmap=plt.cm.Blues)\n",
        "plt.colorbar()\n",
        "tick_marks = np.arange(len(flower_classes))\n",
        "plt.xticks(tick_marks, flower_classes, rotation=85)\n",
        "plt.yticks(tick_marks, flower_classes)\n",
        "plt.xlabel(\"Predicted Species\")\n",
        "plt.ylabel(\"Actual Species\")\n",
        "plt.show"
      ],
      "metadata": {
        "colab": {
          "base_uri": "https://localhost:8080/",
          "height": 539
        },
        "id": "JMYup-H7ug3o",
        "outputId": "fbec9f63-f0b7-4f32-9763-dc2cc204d498"
      },
      "execution_count": 13,
      "outputs": [
        {
          "output_type": "stream",
          "name": "stdout",
          "text": [
            "45/45 [==============================] - 0s 1ms/step\n"
          ]
        },
        {
          "output_type": "execute_result",
          "data": {
            "text/plain": [
              "<function matplotlib.pyplot.show(close=None, block=None)>"
            ]
          },
          "metadata": {},
          "execution_count": 13
        },
        {
          "output_type": "display_data",
          "data": {
            "text/plain": [
              "<Figure size 640x480 with 2 Axes>"
            ],
            "image/png": "[encoded data removed]"
          },
          "metadata": {}
        }
      ]
    },
    {
      "cell_type": "code",
      "source": [
        "import os\n",
        "os.getcwd()"
      ],
      "metadata": {
        "colab": {
          "base_uri": "https://localhost:8080/",
          "height": 35
        },
        "id": "HBzOXQRLvqld",
        "outputId": "fff2701f-801e-420d-e710-5aa81f5c1a44"
      },
      "execution_count": 15,
      "outputs": [
        {
          "output_type": "execute_result",
          "data": {
            "text/plain": [
              "'/content'"
            ],
            "application/vnd.google.colaboratory.intrinsic+json": {
              "type": "string"
            }
          },
          "metadata": {},
          "execution_count": 15
        }
      ]
    },
    {
      "cell_type": "code",
      "source": [
        "# Save the trained model\n",
        "modelFileName = 'models/flower-classifier.h5'\n",
        "model.save(modelFileName)\n",
        "del model  # deletes the existing model variable\n",
        "print('model saved as', modelFileName)"
      ],
      "metadata": {
        "colab": {
          "base_uri": "https://localhost:8080/"
        },
        "id": "rLm1ZqTfvYDd",
        "outputId": "91db4193-6ba0-449d-f94e-77c96d23d877"
      },
      "execution_count": 16,
      "outputs": [
        {
          "output_type": "stream",
          "name": "stdout",
          "text": [
            "model saved as /content/flower-classifier.h5\n"
          ]
        }
      ]
    },
    {
      "cell_type": "code",
      "source": [],
      "metadata": {
        "id": "dYQabuJJvyUm"
      },
      "execution_count": null,
      "outputs": []
    }
  ]
}