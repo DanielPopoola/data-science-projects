{
 "cells": [
  {
   "cell_type": "markdown",
   "metadata": {
    "dc": {
     "key": "3"
    },
    "deletable": false,
    "editable": false,
    "run_control": {
     "frozen": true
    },
    "tags": [
     "context"
    ]
   },
   "source": [
    "## Welcome to the Browser Wars (1995 - )\n",
    "<p><img src=\"https://assets.datacamp.com/production/project_1172/img/browser.png\" alt=\"Browser on desktop, tablet, and phone\"></p>\n",
    "<p>In the mid 1990s, the First Browser War began with Netscape Navigator and Microsoft Internet Explorer fighting for dominance. By 2001, Internet Explorer was the clear winner, but it was not long before the Second Browser Wars began (2004-2017). This coincided with the rise of smartphones, which emphasized the need and competitiveness for more mobile-friendly versions of browsers. <a href=\"https://en.wikipedia.org/wiki/Browser_wars\">[1]</a></p>\n",
    "<p>In this notebook, we'll analyze the worldwide popularity of browsers over time using Google Trends. Although this won't give us direct market share figures, we can use Google Trends to get a sense of interest of a given browser over time and how that interest compares to other browsers. In particular, we will be looking at five major players over the past two decades: Mozilla Firefox (2002-), Apple's Safari (2002-), Google Chrome (2008-), Microsoft Internet Explorer (1995-2020), and Opera (1995-).</p>\n",
    "<p>The dataset you will use was downloaded as a CSV from this <a href=\"https://trends.google.com/trends/explore?date=all&q=%2Fm%2F01dyhm,%2Fm%2F0168s_,%2Fm%2F04j7cyf,%2Fm%2F03xw0,%2Fm%2F01z7gs\">Google Trends query</a> in mid-October of 2020. Here are the details:</p>\n",
    "<div style=\"background-color: #efebe4; color: #05192d; text-align:left; vertical-align: middle; padding: 15px 25px 15px 25px; line-height: 1.6;\">\n",
    "    <div style=\"font-size:20px\"><b>datasets/worldwide_browser_trends.csv</b></div>\n",
    "This is a time series indexed by month with the search interest for each browser.\n",
    "<ul>\n",
    "    <li><b>Month:</b> each month from 2004-01 to 2020-10</li>\n",
    "    <li><b>Firefox:</b> search interest for Firefox</li>\n",
    "    <li><b>Safari:</b> search interest for Safari</li>\n",
    "    <li><b>Google Chrome:</b> search interest for Chrome</li>\n",
    "    <li><b>Internet Explorer:</b> search interest for Internet Explorer</li>\n",
    "    <li><b>Opera:</b> search interest for Opera</li>\n",
    "</ul>\n",
    "</div>\n",
    "<p>Google defines the values of search interest as:</p>\n",
    "<blockquote>\n",
    "  <p>Numbers represent search interest relative to the highest point on the chart for the given region and time. A value of 100 is the peak popularity for the term. A value of 50 means that the term is half as popular. A score of 0 means there was not enough data for this term.</p>\n",
    "</blockquote>\n",
    "<p>Best of luck and may the best browser win!</p>"
   ]
  },
  {
   "cell_type": "code",
   "execution_count": null,
   "metadata": {},
   "outputs": [
    {
     "ename": "",
     "evalue": "",
     "output_type": "error",
     "traceback": [
      "\u001b[1;31mRunning cells with 'Python 3.11.0 64-bit' requires ipykernel package.\n",
      "\u001b[1;31mRun the following command to install 'ipykernel' into the Python environment. \n",
      "\u001b[1;31mCommand: 'c:/Users/USER/AppData/Local/Programs/Python/Python311/python.exe -m pip install ipykernel -U --user --force-reinstall'"
     ]
    }
   ],
   "source": [
    "\n",
    "\n",
    "\n",
    "df = pd.read_csv(\"datasets/worldwide_browser_trends.csv\",parse_dates=['Month'], index_col='Month')\n",
    "\n",
    "df.info()\n",
    "df.plot()\n",
    "\n",
    "\n",
    "rolling_six = df.rolling(window=6).mean()\n",
    "\n",
    "\n",
    "print(rolling_six.head(10))\n",
    "rolling_six.plot(title=\"6 Month Rolling Avg\")\n",
    "\n",
    "### QUESTION 2: Percentage change from the previous quarter\n",
    "\n",
    "# A quarter is three months\n",
    "# Make sure to multiply by 100 for percentage formate\n",
    "pct_change_quarterly = df.pct_change(3)*100\n",
    "# Get years >= 2009\n",
    "pct_change_quarterly = pct_change_quarterly.loc['2009':]\n",
    "\n",
    "# Preview it and plot it (not tested)\n",
    "print(pct_change_quarterly.head(10))\n",
    "pct_change_quarterly.plot(subplots=True, figsize=(12,8))\n",
    "\n",
    "### QUESTION 3: Annual Google Trends performance in 2009, 2012, 2015, and 2018\n",
    "\n",
    "# Create a new DataFrame that has a column for each year and a row for each month\n",
    "chrome_trends = pd.DataFrame()\n",
    "\n",
    "# Pull the data for each year and add it to the DataFrame\n",
    "for year in ['2009', '2012', '2015', '2018']:\n",
    "    chrome_trends_per_year = df.loc[year, ['Google Chrome']].reset_index(drop=True)\n",
    "    chrome_trends_per_year.rename(columns={'Google Chrome': year}, inplace=True)\n",
    "    chrome_trends = pd.concat([chrome_trends, chrome_trends_per_year], axis=1)\n",
    "\n",
    "# Preview it and plot it (not tested)\n",
    "print(pct_change_quarterly.head(10))\n",
    "chrome_trends.plot(title=\"Chrome Search Performance in 2009, 2012, 2015 & 2018\")\n"
   ]
  },
  {
   "cell_type": "code",
   "execution_count": null,
   "metadata": {},
   "outputs": [],
   "source": []
  }
 ],
 "metadata": {
  "kernelspec": {
   "display_name": "Python 3.11.0 64-bit",
   "language": "python",
   "name": "python3"
  },
  "language_info": {
   "codemirror_mode": {
    "name": "ipython",
    "version": 3
   },
   "file_extension": ".py",
   "mimetype": "text/x-python",
   "name": "python",
   "nbconvert_exporter": "python",
   "pygments_lexer": "ipython3",
   "version": "3.11.0"
  },
  "vscode": {
   "interpreter": {
    "hash": "d417a21d97a2e6b8832d21dc44f5cbe4be6e18325f874a8bb8484565b928cd54"
   }
  }
 },
 "nbformat": 4,
 "nbformat_minor": 2
}
